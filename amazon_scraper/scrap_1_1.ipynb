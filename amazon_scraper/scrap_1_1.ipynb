{
  "nbformat": 4,
  "nbformat_minor": 0,
  "metadata": {
    "colab": {
      "provenance": []
    },
    "kernelspec": {
      "name": "python3",
      "display_name": "Python 3"
    },
    "language_info": {
      "name": "python"
    }
  },
  "cells": [
    {
      "cell_type": "markdown",
      "source": [
        "#Task1: Dataset Generation\n",
        "Web scraping amazon product pages using Beautiful Soup library\n",
        "\n",
        "Fields used: Title, Category, Description, Price, Rating and Customer Reviews"
      ],
      "metadata": {
        "id": "HLRClg74Qnvo"
      }
    },
    {
      "cell_type": "code",
      "source": [
        "#Import Modules\n",
        "import pandas as pd\n",
        "import numpy as np\n",
        "from bs4 import BeautifulSoup\n",
        "from urllib.request import urlopen\n",
        "import requests\n",
        "import time\n",
        "import random"
      ],
      "metadata": {
        "id": "ze2Qx2TjsyWF"
      },
      "execution_count": null,
      "outputs": []
    },
    {
      "cell_type": "markdown",
      "source": [
        "###Urls for the search of products on amazon"
      ],
      "metadata": {
        "id": "fatrs-c1ORdX"
      }
    },
    {
      "cell_type": "code",
      "source": [
        "# car category\n",
        "car_url=[\"https://www.amazon.in/s?k=figurines&ref=nb_sb_noss_2\",\n",
        "         \"https://www.amazon.in/s?k=product&i=automotive&page=2&crid=MA7G2EIC2HAW&qid=1696759388&sprefix=product%2Cautomotive%2C228&ref=sr_pg_2\",\n",
        "         \"https://www.amazon.in/s?k=product&i=automotive&page=3&crid=MA7G2EIC2HAW&qid=1696759447&sprefix=product%2Cautomotive%2C228&ref=sr_pg_3\",\n",
        "         \"https://www.amazon.in/s?k=product&i=automotive&page=4&crid=MA7G2EIC2HAW&qid=1696759460&sprefix=product%2Cautomotive%2C228&ref=sr_pg_4\"]\n",
        "\n",
        "headers_std={\n",
        "    'User-Agent':'Safari/537.36',\n",
        "    'Content-Type':'text/html',\n",
        "}\n",
        "\n",
        "car_urls=[]\n",
        "for i in car_url:\n",
        "  html = requests.get(i,headers=headers_std).text\n",
        "  soup = BeautifulSoup(html,'lxml')\n",
        "  url_class = \"a-link-normal s-underline-text s-underline-link-text s-link-style a-text-normal\"\n",
        "  url_link= soup.find_all(\"a\", {\"class\":url_class})\n",
        "  print(len(url_link))\n",
        "\n",
        "  for j in url_link:\n",
        "    car_urls.append('https://www.amazon.in'+j.get(\"href\"))"
      ],
      "metadata": {
        "colab": {
          "base_uri": "https://localhost:8080/"
        },
        "id": "WWSWIXIGtqx6",
        "outputId": "3f427f67-9a92-45ea-c2c8-f962e80ea25d"
      },
      "execution_count": null,
      "outputs": [
        {
          "output_type": "stream",
          "name": "stdout",
          "text": [
            "48\n",
            "24\n",
            "24\n",
            "24\n"
          ]
        }
      ]
    },
    {
      "cell_type": "code",
      "source": [
        "# amazon home category\n",
        "amazon_home_url=[\"https://www.amazon.in/s?k=kitchen&crid=2Y18I7DJQMGMZ&sprefix=kitche%2Caps%2C233&ref=nb_sb_noss_2\",\n",
        "                      \"https://www.amazon.in/s?k=kitchen&page=2&crid=2Y18I7DJQMGMZ&qid=1696760350&sprefix=kitche%2Caps%2C233&ref=sr_pg_2\"]\n",
        "\n",
        "headers_std = {\n",
        "    'User-Agent':'Chrome/46.0.2490.80',\n",
        "    'Content-Type':'text/html',\n",
        "}\n",
        "\n",
        "amazon_home_urls=[]\n",
        "for i in amazon_home_url:\n",
        "  html = requests.get(i,headers=headers_std).text\n",
        "  soup = BeautifulSoup(html,'lxml')\n",
        "  url_class = \"a-link-normal s-underline-text s-underline-link-text s-link-style a-text-normal\"\n",
        "  url_link= soup.find_all(\"a\", {\"class\":url_class})\n",
        "  print(len(url_link))\n",
        "\n",
        "  for j in url_link:\n",
        "    amazon_home_urls.append('https://www.amazon.in'+j.get(\"href\"))"
      ],
      "metadata": {
        "colab": {
          "base_uri": "https://localhost:8080/"
        },
        "id": "gat_VDFmt3Rs",
        "outputId": "095f3a5e-0594-438a-b3a0-402aa267c28d"
      },
      "execution_count": null,
      "outputs": [
        {
          "output_type": "stream",
          "name": "stdout",
          "text": [
            "56\n",
            "48\n"
          ]
        }
      ]
    },
    {
      "cell_type": "code",
      "source": [
        "# get fit at home category\n",
        "fitness_url=[\"https://www.amazon.in/s?rh=n%3A62668320031&fs=true&ref=lp_62668320031_sar\",\n",
        "\"https://www.amazon.in/s?i=sporting&rh=n%3A62668320031&fs=true&page=2&qid=1696757503&ref=sr_pg_2\",\n",
        "\"https://www.amazon.in/s?i=sporting&rh=n%3A62668320031&fs=true&page=3&qid=1696757525&ref=sr_pg_3\",\n",
        "\"https://www.amazon.in/s?i=sporting&rh=n%3A62668320031&fs=true&page=4&qid=1696757538&ref=sr_pg_4\"]\n",
        "headers_std = {\n",
        "    'User-Agent':'Mozilla/5.0',\n",
        "    'Content-Type':'text/html',\n",
        "}\n",
        "fitness_urls=[]\n",
        "for i in fitness_url:\n",
        "  html = requests.get(i,headers=headers_std).text\n",
        "  soup = BeautifulSoup(html,'lxml')\n",
        "  url_class = \"a-link-normal s-underline-text s-underline-link-text s-link-style a-text-normal\"\n",
        "  url_link= soup.find_all(\"a\", {\"class\":url_class})\n",
        "  print(len(url_link))\n",
        "\n",
        "  for j in url_link:\n",
        "    fitness_urls.append('https://www.amazon.in'+j.get(\"href\"))"
      ],
      "metadata": {
        "colab": {
          "base_uri": "https://localhost:8080/"
        },
        "id": "s58D1OuFnvSR",
        "outputId": "fa4b0f54-42a3-41b0-f021-87586335c045"
      },
      "execution_count": null,
      "outputs": [
        {
          "output_type": "stream",
          "name": "stdout",
          "text": [
            "24\n",
            "24\n",
            "24\n",
            "24\n"
          ]
        }
      ]
    },
    {
      "cell_type": "code",
      "source": [
        "# accessories category\n",
        "accessories_url=[\"https://www.amazon.in/s?k=watches+for+men&i=apparel&page=3&crid=PK75T5JFFQGK&qid=1696758139&sprefix=watches%2Capparel%2C238&ref=sr_pg_3\",\n",
        "                 \"https://www.amazon.in/s?k=watches+for+men&i=apparel&page=4&crid=PK75T5JFFQGK&qid=1696758157&sprefix=watches%2Capparel%2C238&ref=sr_pg_4\"]\n",
        "headers_std={\n",
        "    'User-Agent':'OPR/74.0.3911.203 (Edition Yx)',\n",
        "    'Content-Type':'text/html',\n",
        "}\n",
        "accessories_urls=[]\n",
        "for i in accessories_url:\n",
        "  html = requests.get(i,headers=headers_std).text\n",
        "  soup = BeautifulSoup(html,'lxml')\n",
        "  url_class = \"a-link-normal s-underline-text s-underline-link-text s-link-style a-text-normal\"\n",
        "  url_link= soup.find_all(\"a\", {\"class\":url_class})\n",
        "  print(len(url_link))\n",
        "\n",
        "  for j in url_link:\n",
        "    accessories_urls.append('https://www.amazon.in'+j.get(\"href\"))"
      ],
      "metadata": {
        "colab": {
          "base_uri": "https://localhost:8080/"
        },
        "id": "FBM7-DjtqiyX",
        "outputId": "c6e1e246-62c1-425a-d728-339f5e213248"
      },
      "execution_count": null,
      "outputs": [
        {
          "output_type": "stream",
          "name": "stdout",
          "text": [
            "48\n",
            "48\n"
          ]
        }
      ]
    },
    {
      "cell_type": "code",
      "source": [
        "# electronics category\n",
        "electronics_url = [\"https://www.amazon.in/s?k=electronics&i=electronics&page=2&crid=17WI4NFXDHXPD&qid=1696681411&sprefix=electronics%2Celectronics%2C230&ref=sr_pg_2\",\n",
        "               \"https://www.amazon.in/s?k=electronics&i=electronics&crid=17WI4NFXDHXPD&sprefix=electronics%2Celectronics%2C230&ref=nb_sb_noss_1\",\n",
        "\"https://www.amazon.in/s?k=electronics&i=electronics&page=3&crid=17WI4NFXDHXPD&qid=1696681540&sprefix=electronics%2Celectronics%2C230&ref=sr_pg_3\"]\n",
        "\n",
        "headers_std = {\n",
        "    'User-Agent':'Gecko/20100101',\n",
        "    'Content-Type':'text/html',\n",
        "}\n",
        "\n",
        "electronics_urls=[]\n",
        "\n",
        "for i in electronics_url:\n",
        "  html = requests.get(i,headers=headers_std).text\n",
        "  soup = BeautifulSoup(html,'lxml')\n",
        "  url_class = \"a-link-normal s-underline-text s-underline-link-text s-link-style a-text-normal\"\n",
        "  url_link= soup.find_all(\"a\", {\"class\":url_class})\n",
        "  print(len(url_link))\n",
        "\n",
        "  for j in url_link:\n",
        "    electronics_urls.append('https://www.amazon.in'+j.get(\"href\"))\n",
        "\n"
      ],
      "metadata": {
        "colab": {
          "base_uri": "https://localhost:8080/"
        },
        "id": "iq3p-_CrFtcb",
        "outputId": "519be437-11cc-44d7-ff77-379cb5a1687e"
      },
      "execution_count": null,
      "outputs": [
        {
          "output_type": "stream",
          "name": "stdout",
          "text": [
            "24\n",
            "24\n",
            "24\n"
          ]
        }
      ]
    },
    {
      "cell_type": "code",
      "source": [
        "# furniture category\n",
        "headers_std = {\n",
        "    'User-Agent':'Version/15.2',\n",
        "    'Content-Type':'text/html',\n",
        "}\n",
        "\n",
        "furniture_url = [\"https://www.amazon.in/s?k=desk&i=furniture&crid=1BC8WTVNULDM4&sprefix=desk%2Cfurniture%2C222&ref=nb_sb_noss_1\",\n",
        "               \"https://www.amazon.in/s?k=desk&i=furniture&page=2&crid=1BC8WTVNULDM4&qid=1696759764&sprefix=desk%2Cfurniture%2C222&ref=sr_pg_2\",\n",
        "               \"https://www.amazon.in/s?k=desk&i=furniture&page=3&crid=1BC8WTVNULDM4&qid=1696759825&sprefix=desk%2Cfurniture%2C222&ref=sr_pg_3\"]\n",
        "\n",
        "furniture_urls=[]\n",
        "\n",
        "for i in furniture_url:\n",
        "  html = requests.get(i,headers=headers_std).text\n",
        "  soup = BeautifulSoup(html,'lxml')\n",
        "  url_class = \"a-link-normal s-underline-text s-underline-link-text s-link-style a-text-normal\"\n",
        "  url_link= soup.find_all(\"a\", {\"class\":url_class})\n",
        "  print(len(url_link))\n",
        "\n",
        "  for j in url_link:\n",
        "    furniture_urls.append('https://www.amazon.in'+j.get(\"href\"))\n"
      ],
      "metadata": {
        "colab": {
          "base_uri": "https://localhost:8080/"
        },
        "id": "sW9wLh9OwmVU",
        "outputId": "10ae0167-3679-40b1-9538-247f42df2041"
      },
      "execution_count": null,
      "outputs": [
        {
          "output_type": "stream",
          "name": "stdout",
          "text": [
            "24\n",
            "24\n",
            "24\n"
          ]
        }
      ]
    },
    {
      "cell_type": "code",
      "source": [
        "# All product urls\n",
        "unified_links= [item for sublist in [car_urls, amazon_home_urls, fitness_urls, accessories_urls, electronics_urls, furniture_urls] for item in sublist]\n",
        "unified_links=random.shuffle(unified_links)"
      ],
      "metadata": {
        "id": "6M9bETYHv9qh"
      },
      "execution_count": null,
      "outputs": []
    },
    {
      "cell_type": "markdown",
      "source": [
        "###Web scraping product pages and making a dataframe"
      ],
      "metadata": {
        "id": "egjbfsjlQ8E4"
      }
    },
    {
      "cell_type": "code",
      "source": [
        "# List of user agents to rotate in the headers for each request\n",
        "header_list = [\n",
        "    'Mozilla/5.0 (Windows NT 10.0; Win64; x64)',\n",
        "    'OPR/74.0.3911.203 (Edition Yx)',\n",
        "    'AppleWebKit/537.36',\n",
        "    'Mozilla/5.0',\n",
        "    'Chrome/46.0.2490.80',\n",
        "    'Safari/537.36',\n",
        "    'Edg/91.0.864.70',\n",
        "    'Chrome/75.0.3770.143',\n",
        "    'OPR/99.0.1234.56',\n",
        "    'Kiwi/75.0.3770.143',\n",
        "    'Chrome/88.0.4324.150',\n",
        "    'Mozilla/5.0 (Windows NT 6.1; WOW64)',\n",
        "    'AppleWebKit/537.36 (KHTML, like Gecko)',\n",
        "    'Chrome/58.0.3029.110',\n",
        "    'Mozilla/5.0 (Windows NT 10.0; Win64; x64)',\n",
        "    'AppleWebKit/537.36 (KHTML, like Gecko)',\n",
        "    'Chrome/91.0.4472.124',\n",
        "    'Mozilla/5.0 (Macintosh; Intel Mac OS X 10_15_7)',\n",
        "    'AppleWebKit/605.1.15 (KHTML, like Gecko)',\n",
        "    'Version/15.2',\n",
        "    'Safari/605.1.15',\n",
        "    'Mozilla/5.0 (Windows NT 6.1; Win64; x64)',\n",
        "    'AppleWebKit/537.36 (KHTML, like Gecko)',\n",
        "    'Chrome/99.0.1234.56',\n",
        "    'Mozilla/5.0 (X11; Linux x86_64)',\n",
        "    'AppleWebKit/537.36 (KHTML, like Gecko)',\n",
        "    'Chrome/99.0.1234.56',\n",
        "    'Mozilla/5.0 (Windows NT 10.0; Win64; x64)',\n",
        "    'AppleWebKit/537.36 (KHTML, like Gecko)',\n",
        "    'Firefox/97.0',\n",
        "    'Mozilla/5.0 (Windows NT 10.0; Win64; x64; rv:97.0)',\n",
        "    'Gecko/20100101',\n",
        "]\n",
        "\n",
        "# Initialize counters and headers for HTTP requests\n",
        "count = 1\n",
        "header_count = random.randint(0, len(header_list))\n",
        "headers_std = {\n",
        "    'User-Agent': header_list[header_count],\n",
        "    'Content-Type': 'text/html',\n",
        "}\n",
        "\n",
        "# Dictionary to store scraped data\n",
        "dic = {\n",
        "    \"product_title\": [],\n",
        "    \"product_category\": [],\n",
        "    \"product_description\": [],\n",
        "    \"product_rating\": [],\n",
        "    \"product_price\": [],\n",
        "    \"product_reviews\": []\n",
        "}\n",
        "\n",
        "# Loop through URLs in unified_links\n",
        "for url in unified_links:\n",
        "    print(count)\n",
        "    try:\n",
        "        # Rotate headers after every 50 requests and introduce a delay\n",
        "        if count % 50 == 0:\n",
        "            header_count = (header_count + 1) % len(header_list)\n",
        "            headers_std['User-Agent'] = header_list[header_count]\n",
        "            time.sleep(60)\n",
        "\n",
        "        # Make an HTTP request to the URL and parse the HTML content\n",
        "        html = requests.get(url, headers=headers_std).text\n",
        "        soup = BeautifulSoup(html, 'lxml')\n",
        "\n",
        "        # Define classes for product details in HTML\n",
        "        product_title_class = \"a-size-large product-title-word-break\"\n",
        "        product_category_class = \"nav-a-content\"\n",
        "        product_description_class = \"a-unordered-list a-vertical a-spacing-mini\"\n",
        "        product_rating_class = \"a-icon-alt\"\n",
        "        product_price_class = \"a-price-whole\"\n",
        "\n",
        "        # Extract product details using BeautifulSoup\n",
        "        product_title = soup.find(\"span\", {\"class\": product_title_class})\n",
        "        product_category = soup.find(\"span\", {\"class\": product_category_class})\n",
        "        product_description = soup.find(\"ul\", {\"class\": product_description_class})\n",
        "        product_rating = soup.find(\"span\", {'class': product_rating_class})\n",
        "        product_price = soup.find(\"span\", {\"class\": product_price_class})\n",
        "\n",
        "        # Find the review container element\n",
        "        review_container = soup.find('div', {'data-hook': 'top-customer-reviews-widget'})\n",
        "\n",
        "        # Find all individual reviews within the container\n",
        "        reviews = review_container.find_all('div', {'data-hook': 'review'})\n",
        "\n",
        "        # Check if any required element is None, and skip the URL if so\n",
        "        if any(elem is None for elem in [product_title, product_category, product_description, product_rating, product_price, review_container]):\n",
        "            print(f\"Skipping URL {url} due to missing elements\")\n",
        "            continue\n",
        "\n",
        "        # Append product details to the dictionary\n",
        "        dic[\"product_title\"].append(product_title.text.strip())\n",
        "        dic[\"product_category\"].append(product_category.img.get(\"alt\") if product_category.img else product_category.text.strip())\n",
        "\n",
        "        # Extract and format product description\n",
        "        description_paragraph = '\\n'.join([li.get_text(strip=True) for li in product_description.find_all('li')])\n",
        "        dic[\"product_description\"].append(description_paragraph)\n",
        "\n",
        "        # Append product rating and price to the dictionary\n",
        "        dic[\"product_rating\"].append(product_rating.text.split(\" \")[0])\n",
        "        dic[\"product_price\"].append(product_price.text.strip())\n",
        "\n",
        "        # Iterate over each review and extract information\n",
        "        review_list = []\n",
        "        for review in reviews:\n",
        "            # Dictionary to store review details\n",
        "            review_dict = {\n",
        "                \"reviewer_name\": \"\",\n",
        "                \"rating\": \"\",\n",
        "                \"review_heading\": \"\",\n",
        "                \"review_text\": \"\",\n",
        "                \"review_date\": \"\",\n",
        "                \"verified_purchase\": \"\"\n",
        "            }\n",
        "\n",
        "            # Extract reviewer name\n",
        "            reviewer_name = review.find('span', {'class': 'a-profile-name'}).get_text(strip=True)\n",
        "            review_dict[\"reviewer_name\"] = reviewer_name\n",
        "\n",
        "            # Extract rating\n",
        "            rating = review.find('span', {'class': 'a-icon-alt'}).get_text(strip=True).split(\" \")[0]\n",
        "            review_dict[\"rating\"] = rating\n",
        "\n",
        "            # Extract review heading\n",
        "            review_heading = review.find('a', {'data-hook': 'review-title'}).get_text(strip=True)\n",
        "            review_dict[\"review_heading\"] = review_heading\n",
        "\n",
        "            # Extract entire review text, including content behind \"Read more\"\n",
        "            review_text_element = review.find('span', {'data-hook': 'review-body'})\n",
        "            review_text = review_text_element.get_text(separator='\\n', strip=True).strip(\"\\nRead more\")\n",
        "            review_dict[\"review_text\"] = review_text\n",
        "\n",
        "            # Extract review date\n",
        "            review_date = review.find('span', {'data-hook': 'review-date'}).get_text(strip=True)\n",
        "            review_dict[\"review_date\"] = review_date\n",
        "\n",
        "            # Extract whether it's a verified purchase\n",
        "            verified_purchase = review.find('span', {'data-hook': 'avp-badge-linkless'}).get_text(strip=True)\n",
        "            review_dict[\"verified_purchase\"] = verified_purchase\n",
        "\n",
        "            # Append the review dictionary to the list\n",
        "            review_list.append(review_dict)\n",
        "\n",
        "        # Append the list of reviews to the dictionary\n",
        "        dic[\"product_reviews\"].append(review_list)\n",
        "\n",
        "        # Increment the counter\n",
        "        count += 1\n",
        "\n",
        "    except Exception as e:\n",
        "        # Print an error message if an exception occurs during scraping\n",
        "         print(f\"Error scraping URL {url}: {str(e)}\")\n",
        "\n",
        "# Create a DataFrame from the extracted data\n",
        "df = pd.DataFrame(dic)\n",
        "\n",
        "# Save the DataFrame to a CSV file\n",
        "df.to_csv(\"amazon_product_data.csv\", index=False)\n",
        "print(\"Data saved to amazon_product_data.csv\")"
      ],
      "metadata": {
        "colab": {
          "base_uri": "https://localhost:8080/",
          "height": 1000
        },
        "id": "gyDPZI0RIpZt",
        "outputId": "689d7456-a2ee-4ba0-bd02-01364d3ebc1f"
      },
      "execution_count": null,
      "outputs": [
        {
          "output_type": "stream",
          "name": "stdout",
          "text": [
            "1\n",
            "2\n",
            "3\n",
            "4\n",
            "5\n",
            "6\n",
            "7\n",
            "8\n",
            "9\n",
            "10\n",
            "11\n",
            "12\n",
            "Error scraping URL https://www.amazon.in/AUGEN-Hermoine-Limited-Dashboard-Decoration/dp/B09GPM97R5/ref=sr_1_12?keywords=figurines&qid=1696759505&sr=8-12: 'NoneType' object has no attribute 'get_text'\n",
            "12\n",
            "13\n",
            "14\n",
            "15\n",
            "16\n",
            "17\n",
            "18\n",
            "19\n",
            "20\n",
            "21\n",
            "Error scraping URL https://www.amazon.in/YellowCult-HandCrafted-Tribal-Musician-Instrument/dp/B09J59B6XY/ref=sr_1_22?keywords=figurines&qid=1696759505&sr=8-22: 'NoneType' object has no attribute 'get_text'\n",
            "21\n",
            "22\n",
            "23\n",
            "24\n",
            "25\n",
            "26\n",
            "27\n",
            "28\n",
            "29\n",
            "Error scraping URL https://www.amazon.in/Blue-Aura-Multicolour-Figurines-Collectible/dp/B0CHVYT1BP/ref=sr_1_31?keywords=figurines&qid=1696759505&sr=8-31: 'NoneType' object has no attribute 'get_text'\n",
            "29\n",
            "30\n",
            "31\n",
            "32\n",
            "33\n",
            "34\n",
            "Error scraping URL https://www.amazon.in/Collection-Squirrel-Showpiece-Miniature-Decoration/dp/B0CBSVDJW8/ref=sr_1_37?keywords=figurines&qid=1696759505&sr=8-37: 'NoneType' object has no attribute 'find_all'\n",
            "34\n",
            "Error scraping URL https://www.amazon.in/chamemo-Astronaut-Spaceman-Statue-Ornament/dp/B0CDX2RHRS/ref=sr_1_38?keywords=figurines&qid=1696759505&sr=8-38: 'NoneType' object has no attribute 'find_all'\n",
            "34\n",
            "35\n",
            "36\n",
            "37\n",
            "38\n",
            "39\n",
            "40\n",
            "41\n",
            "42\n",
            "43\n",
            "44\n",
            "45\n",
            "46\n",
            "47\n",
            "48\n",
            "49\n",
            "50\n",
            "51\n",
            "52\n",
            "53\n",
            "Error scraping URL https://www.amazon.in/MOOLYAVAAN-PRODUCTS-Sunlight-Protection-Pollution/dp/B09PDZ926H/ref=sr_1_34?crid=MA7G2EIC2HAW&keywords=product&nsdOptOutParam=true&qid=1696759507&s=automotive&sprefix=product%2Cautomotive%2C228&sr=1-34: 'NoneType' object has no attribute 'find_all'\n",
            "53\n",
            "Error scraping URL https://www.amazon.in/Dharam-Product%C2%AE-Accessories-Tissue-Napkin/dp/B08JFT6F7P/ref=sr_1_35?crid=MA7G2EIC2HAW&keywords=product&nsdOptOutParam=true&qid=1696759507&s=automotive&sprefix=product%2Cautomotive%2C228&sr=1-35: 'NoneType' object has no attribute 'find_all'\n",
            "53\n",
            "54\n",
            "55\n",
            "Error scraping URL https://www.amazon.in/BICYCLISM-Golden-Royal-Enfield-Thunderbird/dp/B07M9YX5CV/ref=sr_1_38?crid=MA7G2EIC2HAW&keywords=product&nsdOptOutParam=true&qid=1696759507&s=automotive&sprefix=product%2Cautomotive%2C228&sr=1-38: 'NoneType' object has no attribute 'find_all'\n",
            "55\n",
            "56\n",
            "57\n",
            "58\n",
            "59\n",
            "60\n",
            "61\n",
            "62\n",
            "Error scraping URL https://www.amazon.in/Multifunctional-Holder-for-Apple-Products/dp/B0C7LL78Y6/ref=sr_1_46?crid=MA7G2EIC2HAW&keywords=product&nsdOptOutParam=true&qid=1696759507&s=automotive&sprefix=product%2Cautomotive%2C228&sr=1-46: 'NoneType' object has no attribute 'find_all'\n",
            "62\n",
            "Error scraping URL https://www.amazon.in/SINCE-STORE-Taehyung-Gift-products/dp/B0BL56CMGS/ref=sr_1_47?crid=MA7G2EIC2HAW&keywords=product&nsdOptOutParam=true&qid=1696759507&s=automotive&sprefix=product%2Cautomotive%2C228&sr=1-47: 'NoneType' object has no attribute 'get_text'\n",
            "62\n",
            "63\n",
            "Error scraping URL https://www.amazon.in/PRODUCTS-47785-Nterior-Cable-Plate/dp/B002UCADMQ/ref=sr_1_49?crid=MA7G2EIC2HAW&keywords=product&qid=1696759509&s=automotive&sprefix=product%2Cautomotive%2C228&sr=1-49: 'NoneType' object has no attribute 'find_all'\n",
            "63\n",
            "Error scraping URL https://www.amazon.in/VASHE-JAGMOOLYA-Motorcycle-Protection-Multicolor/dp/B0C4HDX378/ref=sr_1_50?crid=MA7G2EIC2HAW&keywords=product&qid=1696759509&s=automotive&sprefix=product%2Cautomotive%2C228&sr=1-50: 'NoneType' object has no attribute 'find_all'\n",
            "63\n",
            "Error scraping URL https://www.amazon.in/Meguiars-Ultimate-Products-Interior-Detailer/dp/B018CUJC4E/ref=sr_1_51?crid=MA7G2EIC2HAW&keywords=product&qid=1696759509&s=automotive&sprefix=product%2Cautomotive%2C228&sr=1-51: 'NoneType' object has no attribute 'find_all'\n",
            "63\n",
            "64\n",
            "Error scraping URL https://www.amazon.in/Divik-Cleaning-Cleaner-Microfiber-Windows/dp/B09ZBC21S6/ref=sr_1_53?crid=MA7G2EIC2HAW&keywords=product&qid=1696759509&s=automotive&sprefix=product%2Cautomotive%2C228&sr=1-53: 'NoneType' object has no attribute 'find_all'\n",
            "64\n",
            "Error scraping URL https://www.amazon.in/ROPA-MOOLYAVAAN-PRODUCTS-Protection-Multicolur/dp/B0C3RFLQ9W/ref=sr_1_54?crid=MA7G2EIC2HAW&keywords=product&qid=1696759509&s=automotive&sprefix=product%2Cautomotive%2C228&sr=1-54: 'NoneType' object has no attribute 'find_all'\n",
            "64\n",
            "Error scraping URL https://www.amazon.in/Bars-Leaks-1186-Liquid-Aluminum/dp/B002696FA2/ref=sr_1_55?crid=MA7G2EIC2HAW&keywords=product&qid=1696759509&s=automotive&sprefix=product%2Cautomotive%2C228&sr=1-55: 'NoneType' object has no attribute 'find_all'\n",
            "64\n",
            "Error scraping URL https://www.amazon.in/Meyer-Products-7347-Plows-Accessories/dp/B06XDL1LTW/ref=sr_1_56?crid=MA7G2EIC2HAW&keywords=product&qid=1696759509&s=automotive&sprefix=product%2Cautomotive%2C228&sr=1-56: 'NoneType' object has no attribute 'find_all'\n",
            "64\n",
            "Error scraping URL https://www.amazon.in/Echo-Products-02-501-5-Snap-Shield/dp/B009XIS6BA/ref=sr_1_57?crid=MA7G2EIC2HAW&keywords=product&qid=1696759509&s=automotive&sprefix=product%2Cautomotive%2C228&sr=1-57: 'NoneType' object has no attribute 'find_all'\n",
            "64\n",
            "Error scraping URL https://www.amazon.in/AllExtreme-LED-Multicolor-Waterproof-Motorcycle/dp/B08WBYS44H/ref=sr_1_58?crid=MA7G2EIC2HAW&keywords=product&qid=1696759509&s=automotive&sprefix=product%2Cautomotive%2C228&sr=1-58: 'NoneType' object has no attribute 'find_all'\n",
            "64\n",
            "Error scraping URL https://www.amazon.in/BICYCLISM-Styling-Royal-Enfield-Golden/dp/B07LDP4D4W/ref=sr_1_59?crid=MA7G2EIC2HAW&keywords=product&qid=1696759509&s=automotive&sprefix=product%2Cautomotive%2C228&sr=1-59: 'NoneType' object has no attribute 'find_all'\n",
            "64\n",
            "Error scraping URL https://www.amazon.in/Star-Products-STATU74489-Injection-Update/dp/B000BHL27C/ref=sr_1_60?crid=MA7G2EIC2HAW&keywords=product&qid=1696759509&s=automotive&sprefix=product%2Cautomotive%2C228&sr=1-60: 'NoneType' object has no attribute 'find_all'\n",
            "64\n",
            "Error scraping URL https://www.amazon.in/Slick-Products-Concentrated-Shampoo-Motorhome/dp/B07WNK3MG6/ref=sr_1_61?crid=MA7G2EIC2HAW&keywords=product&qid=1696759509&s=automotive&sprefix=product%2Cautomotive%2C228&sr=1-61: 'NoneType' object has no attribute 'find_all'\n",
            "64\n",
            "Error scraping URL https://www.amazon.in/Rampage-Products-7710-Universal-Portable/dp/B00QHZV7IQ/ref=sr_1_62?crid=MA7G2EIC2HAW&keywords=product&qid=1696759509&s=automotive&sprefix=product%2Cautomotive%2C228&sr=1-62: 'NoneType' object has no attribute 'find_all'\n",
            "64\n",
            "Error scraping URL https://www.amazon.in/VASHE-JAGMOOLYA-PRODUCTS-protection-Protection/dp/B0C28D2MX7/ref=sr_1_63?crid=MA7G2EIC2HAW&keywords=product&qid=1696759509&s=automotive&sprefix=product%2Cautomotive%2C228&sr=1-63: 'NoneType' object has no attribute 'find_all'\n",
            "64\n",
            "Error scraping URL https://www.amazon.in/Mohawk-Finishing-Products-Scratch-Resister/dp/B011V72T54/ref=sr_1_64?crid=MA7G2EIC2HAW&keywords=product&qid=1696759509&s=automotive&sprefix=product%2Cautomotive%2C228&sr=1-64: 'NoneType' object has no attribute 'find_all'\n",
            "64\n",
            "Error scraping URL https://www.amazon.in/AARNA-CLEANING-GRISING-PRODUCTS-TEMPERATURE/dp/B0BC47ZHFL/ref=sr_1_65?crid=MA7G2EIC2HAW&keywords=product&qid=1696759509&s=automotive&sprefix=product%2Cautomotive%2C228&sr=1-65: 'NoneType' object has no attribute 'find_all'\n",
            "64\n",
            "Error scraping URL https://www.amazon.in/BRIDGER-Suitable-Bicycles-Product-Vehicles/dp/B0C146XS2S/ref=sr_1_66?crid=MA7G2EIC2HAW&keywords=product&qid=1696759509&s=automotive&sprefix=product%2Cautomotive%2C228&sr=1-66: 'NoneType' object has no attribute 'find_all'\n",
            "64\n",
            "Error scraping URL https://www.amazon.in/Standard-Motor-Products-SK14-Injector/dp/B001IABI4S/ref=sr_1_67?crid=MA7G2EIC2HAW&keywords=product&qid=1696759509&s=automotive&sprefix=product%2Cautomotive%2C228&sr=1-67: 'NoneType' object has no attribute 'find_all'\n",
            "64\n",
            "Error scraping URL https://www.amazon.in/Gra8-Cleaning-Cleaner-Microfiber-Multicolor/dp/B09ZQJJ266/ref=sr_1_68?crid=MA7G2EIC2HAW&keywords=product&qid=1696759509&s=automotive&sprefix=product%2Cautomotive%2C228&sr=1-68: 'NoneType' object has no attribute 'find_all'\n",
            "64\n",
            "Error scraping URL https://www.amazon.in/Mini-Car-Humidifier-Canary-Products/dp/B00E86BCOK/ref=sr_1_69?crid=MA7G2EIC2HAW&keywords=product&qid=1696759509&s=automotive&sprefix=product%2Cautomotive%2C228&sr=1-69: 'NoneType' object has no attribute 'find_all'\n",
            "64\n",
            "Error scraping URL https://www.amazon.in/Reiki-Crystal-Products-Tourmaline-Accessories/dp/B098BBCTQP/ref=sr_1_70?crid=MA7G2EIC2HAW&keywords=product&qid=1696759509&s=automotive&sprefix=product%2Cautomotive%2C228&sr=1-70: 'NoneType' object has no attribute 'find_all'\n",
            "64\n",
            "65\n",
            "Error scraping URL https://www.amazon.in/HORSE-Multi-Surface-Plastics-650-Accessories-Automotive/dp/B0B39HFNVS/ref=sr_1_72?crid=MA7G2EIC2HAW&keywords=product&qid=1696759509&s=automotive&sprefix=product%2Cautomotive%2C228&sr=1-72: 'NoneType' object has no attribute 'find_all'\n",
            "65\n",
            "66\n",
            "Error scraping URL https://www.amazon.in/Bars-HG-1-Blown-Gasket-Repair/dp/B003RGIWO0/ref=sr_1_74?crid=MA7G2EIC2HAW&keywords=product&nsdOptOutParam=true&qid=1696759510&s=automotive&sprefix=product%2Cautomotive%2C228&sr=1-74: 'NoneType' object has no attribute 'get_text'\n",
            "66\n",
            "Error scraping URL https://www.amazon.in/Sportsman-Racing-Products-138094-5cc-Piston/dp/B003OCGEOW/ref=sr_1_75?crid=MA7G2EIC2HAW&keywords=product&nsdOptOutParam=true&qid=1696759510&s=automotive&sprefix=product%2Cautomotive%2C228&sr=1-75: 'NoneType' object has no attribute 'find_all'\n",
            "66\n",
            "Error scraping URL https://www.amazon.in/Sportsman-Racing-Products-268830-Piston/dp/B003OCQ36G/ref=sr_1_76?crid=MA7G2EIC2HAW&keywords=product&nsdOptOutParam=true&qid=1696759510&s=automotive&sprefix=product%2Cautomotive%2C228&sr=1-76: 'NoneType' object has no attribute 'find_all'\n",
            "66\n",
            "Error scraping URL https://www.amazon.in/AllExtreme-LED-Multicolor-Waterproof-Motorcycle/dp/B08WBYS44H/ref=sr_1_77?crid=MA7G2EIC2HAW&keywords=product&nsdOptOutParam=true&qid=1696759510&s=automotive&sprefix=product%2Cautomotive%2C228&sr=1-77: 'NoneType' object has no attribute 'find_all'\n",
            "66\n",
            "Error scraping URL https://www.amazon.in/Sportsman-Racing-Products-140675-Piston/dp/B003OCOAS4/ref=sr_1_78?crid=MA7G2EIC2HAW&keywords=product&nsdOptOutParam=true&qid=1696759510&s=automotive&sprefix=product%2Cautomotive%2C228&sr=1-78: 'NoneType' object has no attribute 'find_all'\n",
            "66\n",
            "67\n",
            "Error scraping URL https://www.amazon.in/140678-4-030-Domed-Piston-Small/dp/B00CFH1VPE/ref=sr_1_80?crid=MA7G2EIC2HAW&keywords=product&nsdOptOutParam=true&qid=1696759510&s=automotive&sprefix=product%2Cautomotive%2C228&sr=1-80: 'NoneType' object has no attribute 'find_all'\n",
            "67\n",
            "Error scraping URL https://www.amazon.in/Sportsman-Racing-Products-271069-Dished/dp/B003OCRX8I/ref=sr_1_81?crid=MA7G2EIC2HAW&keywords=product&nsdOptOutParam=true&qid=1696759510&s=automotive&sprefix=product%2Cautomotive%2C228&sr=1-81: 'NoneType' object has no attribute 'find_all'\n",
            "67\n",
            "Error scraping URL https://www.amazon.in/Dexterous-Cleaning-Cleaner-Microfiber-Multicolored/dp/B0BRN449VV/ref=sr_1_82?crid=MA7G2EIC2HAW&keywords=product&nsdOptOutParam=true&qid=1696759510&s=automotive&sprefix=product%2Cautomotive%2C228&sr=1-82: 'NoneType' object has no attribute 'find_all'\n",
            "67\n",
            "68\n",
            "69\n",
            "70\n",
            "Error scraping URL https://www.amazon.in/Nixby-Portable-Pressure-Motorcycle-Inflatable/dp/B0B4DY16GT/ref=sr_1_86?crid=MA7G2EIC2HAW&keywords=product&nsdOptOutParam=true&qid=1696759510&s=automotive&sprefix=product%2Cautomotive%2C228&sr=1-86: 'NoneType' object has no attribute 'find_all'\n",
            "70\n",
            "71\n",
            "Error scraping URL https://www.amazon.in/BRIDGER-Suitable-Bicycles-Product-Vehicles/dp/B0C146XS2S/ref=sr_1_88?crid=MA7G2EIC2HAW&keywords=product&nsdOptOutParam=true&qid=1696759510&s=automotive&sprefix=product%2Cautomotive%2C228&sr=1-88: 'NoneType' object has no attribute 'find_all'\n",
            "71\n",
            "Error scraping URL https://www.amazon.in/Auto-Bros-Rubbing-Compound-500ml/dp/B08W53RRF7/ref=sr_1_89?crid=MA7G2EIC2HAW&keywords=product&nsdOptOutParam=true&qid=1696759510&s=automotive&sprefix=product%2Cautomotive%2C228&sr=1-89: 'NoneType' object has no attribute 'find_all'\n",
            "71\n",
            "Error scraping URL https://www.amazon.in/AARNA-CLEANING-GRISING-PRODUCTS-TEMPERATURE/dp/B0BC47ZHFL/ref=sr_1_90?crid=MA7G2EIC2HAW&keywords=product&nsdOptOutParam=true&qid=1696759510&s=automotive&sprefix=product%2Cautomotive%2C228&sr=1-90: 'NoneType' object has no attribute 'find_all'\n",
            "71\n",
            "Error scraping URL https://www.amazon.in/Honexa-Portable-Pressure-Motorcycle-Inflatable/dp/B0B4D3SVTW/ref=sr_1_91?crid=MA7G2EIC2HAW&keywords=product&nsdOptOutParam=true&qid=1696759510&s=automotive&sprefix=product%2Cautomotive%2C228&sr=1-91: 'NoneType' object has no attribute 'find_all'\n",
            "71\n",
            "72\n",
            "Error scraping URL https://www.amazon.in/Detailing-Products-C500P-Paint-Gloss/dp/B0779MNSBV/ref=sr_1_93?crid=MA7G2EIC2HAW&keywords=product&nsdOptOutParam=true&qid=1696759510&s=automotive&sprefix=product%2Cautomotive%2C228&sr=1-93: 'NoneType' object has no attribute 'find_all'\n",
            "72\n",
            "73\n",
            "74\n",
            "Error scraping URL https://www.amazon.in/HORSE-Multi-Surface-Plastics-650-Accessories-Automotive/dp/B0B39HFNVS/ref=sr_1_96?crid=MA7G2EIC2HAW&keywords=product&nsdOptOutParam=true&qid=1696759510&s=automotive&sprefix=product%2Cautomotive%2C228&sr=1-96: 'NoneType' object has no attribute 'find_all'\n",
            "74\n",
            "75\n",
            "76\n"
          ]
        },
        {
          "output_type": "error",
          "ename": "KeyboardInterrupt",
          "evalue": "ignored",
          "traceback": [
            "\u001b[0;31m---------------------------------------------------------------------------\u001b[0m",
            "\u001b[0;31mKeyboardInterrupt\u001b[0m                         Traceback (most recent call last)",
            "\u001b[0;32m<ipython-input-129-4a09ea3a317e>\u001b[0m in \u001b[0;36m<cell line: 53>\u001b[0;34m()\u001b[0m\n\u001b[1;32m     58\u001b[0m           \u001b[0mheaders_std\u001b[0m\u001b[0;34m[\u001b[0m\u001b[0;34m'User-Agent'\u001b[0m\u001b[0;34m]\u001b[0m \u001b[0;34m=\u001b[0m \u001b[0mheader_list\u001b[0m\u001b[0;34m[\u001b[0m\u001b[0mheader_count\u001b[0m\u001b[0;34m]\u001b[0m\u001b[0;34m\u001b[0m\u001b[0;34m\u001b[0m\u001b[0m\n\u001b[1;32m     59\u001b[0m           \u001b[0mtime\u001b[0m\u001b[0;34m.\u001b[0m\u001b[0msleep\u001b[0m\u001b[0;34m(\u001b[0m\u001b[0;36m60\u001b[0m\u001b[0;34m)\u001b[0m\u001b[0;34m\u001b[0m\u001b[0;34m\u001b[0m\u001b[0m\n\u001b[0;32m---> 60\u001b[0;31m         \u001b[0mhtml\u001b[0m \u001b[0;34m=\u001b[0m \u001b[0mrequests\u001b[0m\u001b[0;34m.\u001b[0m\u001b[0mget\u001b[0m\u001b[0;34m(\u001b[0m\u001b[0murl\u001b[0m\u001b[0;34m,\u001b[0m \u001b[0mheaders\u001b[0m\u001b[0;34m=\u001b[0m\u001b[0mheaders_std\u001b[0m\u001b[0;34m)\u001b[0m\u001b[0;34m.\u001b[0m\u001b[0mtext\u001b[0m\u001b[0;34m\u001b[0m\u001b[0;34m\u001b[0m\u001b[0m\n\u001b[0m\u001b[1;32m     61\u001b[0m         \u001b[0msoup\u001b[0m \u001b[0;34m=\u001b[0m \u001b[0mBeautifulSoup\u001b[0m\u001b[0;34m(\u001b[0m\u001b[0mhtml\u001b[0m\u001b[0;34m,\u001b[0m \u001b[0;34m'lxml'\u001b[0m\u001b[0;34m)\u001b[0m\u001b[0;34m\u001b[0m\u001b[0;34m\u001b[0m\u001b[0m\n\u001b[1;32m     62\u001b[0m         \u001b[0mproduct_title_class\u001b[0m \u001b[0;34m=\u001b[0m \u001b[0;34m\"a-size-large product-title-word-break\"\u001b[0m\u001b[0;34m\u001b[0m\u001b[0;34m\u001b[0m\u001b[0m\n",
            "\u001b[0;32m/usr/local/lib/python3.10/dist-packages/requests/api.py\u001b[0m in \u001b[0;36mget\u001b[0;34m(url, params, **kwargs)\u001b[0m\n\u001b[1;32m     71\u001b[0m     \"\"\"\n\u001b[1;32m     72\u001b[0m \u001b[0;34m\u001b[0m\u001b[0m\n\u001b[0;32m---> 73\u001b[0;31m     \u001b[0;32mreturn\u001b[0m \u001b[0mrequest\u001b[0m\u001b[0;34m(\u001b[0m\u001b[0;34m\"get\"\u001b[0m\u001b[0;34m,\u001b[0m \u001b[0murl\u001b[0m\u001b[0;34m,\u001b[0m \u001b[0mparams\u001b[0m\u001b[0;34m=\u001b[0m\u001b[0mparams\u001b[0m\u001b[0;34m,\u001b[0m \u001b[0;34m**\u001b[0m\u001b[0mkwargs\u001b[0m\u001b[0;34m)\u001b[0m\u001b[0;34m\u001b[0m\u001b[0;34m\u001b[0m\u001b[0m\n\u001b[0m\u001b[1;32m     74\u001b[0m \u001b[0;34m\u001b[0m\u001b[0m\n\u001b[1;32m     75\u001b[0m \u001b[0;34m\u001b[0m\u001b[0m\n",
            "\u001b[0;32m/usr/local/lib/python3.10/dist-packages/requests/api.py\u001b[0m in \u001b[0;36mrequest\u001b[0;34m(method, url, **kwargs)\u001b[0m\n\u001b[1;32m     57\u001b[0m     \u001b[0;31m# cases, and look like a memory leak in others.\u001b[0m\u001b[0;34m\u001b[0m\u001b[0;34m\u001b[0m\u001b[0m\n\u001b[1;32m     58\u001b[0m     \u001b[0;32mwith\u001b[0m \u001b[0msessions\u001b[0m\u001b[0;34m.\u001b[0m\u001b[0mSession\u001b[0m\u001b[0;34m(\u001b[0m\u001b[0;34m)\u001b[0m \u001b[0;32mas\u001b[0m \u001b[0msession\u001b[0m\u001b[0;34m:\u001b[0m\u001b[0;34m\u001b[0m\u001b[0;34m\u001b[0m\u001b[0m\n\u001b[0;32m---> 59\u001b[0;31m         \u001b[0;32mreturn\u001b[0m \u001b[0msession\u001b[0m\u001b[0;34m.\u001b[0m\u001b[0mrequest\u001b[0m\u001b[0;34m(\u001b[0m\u001b[0mmethod\u001b[0m\u001b[0;34m=\u001b[0m\u001b[0mmethod\u001b[0m\u001b[0;34m,\u001b[0m \u001b[0murl\u001b[0m\u001b[0;34m=\u001b[0m\u001b[0murl\u001b[0m\u001b[0;34m,\u001b[0m \u001b[0;34m**\u001b[0m\u001b[0mkwargs\u001b[0m\u001b[0;34m)\u001b[0m\u001b[0;34m\u001b[0m\u001b[0;34m\u001b[0m\u001b[0m\n\u001b[0m\u001b[1;32m     60\u001b[0m \u001b[0;34m\u001b[0m\u001b[0m\n\u001b[1;32m     61\u001b[0m \u001b[0;34m\u001b[0m\u001b[0m\n",
            "\u001b[0;32m/usr/local/lib/python3.10/dist-packages/requests/sessions.py\u001b[0m in \u001b[0;36mrequest\u001b[0;34m(self, method, url, params, data, headers, cookies, files, auth, timeout, allow_redirects, proxies, hooks, stream, verify, cert, json)\u001b[0m\n\u001b[1;32m    587\u001b[0m         }\n\u001b[1;32m    588\u001b[0m         \u001b[0msend_kwargs\u001b[0m\u001b[0;34m.\u001b[0m\u001b[0mupdate\u001b[0m\u001b[0;34m(\u001b[0m\u001b[0msettings\u001b[0m\u001b[0;34m)\u001b[0m\u001b[0;34m\u001b[0m\u001b[0;34m\u001b[0m\u001b[0m\n\u001b[0;32m--> 589\u001b[0;31m         \u001b[0mresp\u001b[0m \u001b[0;34m=\u001b[0m \u001b[0mself\u001b[0m\u001b[0;34m.\u001b[0m\u001b[0msend\u001b[0m\u001b[0;34m(\u001b[0m\u001b[0mprep\u001b[0m\u001b[0;34m,\u001b[0m \u001b[0;34m**\u001b[0m\u001b[0msend_kwargs\u001b[0m\u001b[0;34m)\u001b[0m\u001b[0;34m\u001b[0m\u001b[0;34m\u001b[0m\u001b[0m\n\u001b[0m\u001b[1;32m    590\u001b[0m \u001b[0;34m\u001b[0m\u001b[0m\n\u001b[1;32m    591\u001b[0m         \u001b[0;32mreturn\u001b[0m \u001b[0mresp\u001b[0m\u001b[0;34m\u001b[0m\u001b[0;34m\u001b[0m\u001b[0m\n",
            "\u001b[0;32m/usr/local/lib/python3.10/dist-packages/requests/sessions.py\u001b[0m in \u001b[0;36msend\u001b[0;34m(self, request, **kwargs)\u001b[0m\n\u001b[1;32m    701\u001b[0m \u001b[0;34m\u001b[0m\u001b[0m\n\u001b[1;32m    702\u001b[0m         \u001b[0;31m# Send the request\u001b[0m\u001b[0;34m\u001b[0m\u001b[0;34m\u001b[0m\u001b[0m\n\u001b[0;32m--> 703\u001b[0;31m         \u001b[0mr\u001b[0m \u001b[0;34m=\u001b[0m \u001b[0madapter\u001b[0m\u001b[0;34m.\u001b[0m\u001b[0msend\u001b[0m\u001b[0;34m(\u001b[0m\u001b[0mrequest\u001b[0m\u001b[0;34m,\u001b[0m \u001b[0;34m**\u001b[0m\u001b[0mkwargs\u001b[0m\u001b[0;34m)\u001b[0m\u001b[0;34m\u001b[0m\u001b[0;34m\u001b[0m\u001b[0m\n\u001b[0m\u001b[1;32m    704\u001b[0m \u001b[0;34m\u001b[0m\u001b[0m\n\u001b[1;32m    705\u001b[0m         \u001b[0;31m# Total elapsed time of the request (approximately)\u001b[0m\u001b[0;34m\u001b[0m\u001b[0;34m\u001b[0m\u001b[0m\n",
            "\u001b[0;32m/usr/local/lib/python3.10/dist-packages/requests/adapters.py\u001b[0m in \u001b[0;36msend\u001b[0;34m(self, request, stream, timeout, verify, cert, proxies)\u001b[0m\n\u001b[1;32m    484\u001b[0m \u001b[0;34m\u001b[0m\u001b[0m\n\u001b[1;32m    485\u001b[0m         \u001b[0;32mtry\u001b[0m\u001b[0;34m:\u001b[0m\u001b[0;34m\u001b[0m\u001b[0;34m\u001b[0m\u001b[0m\n\u001b[0;32m--> 486\u001b[0;31m             resp = conn.urlopen(\n\u001b[0m\u001b[1;32m    487\u001b[0m                 \u001b[0mmethod\u001b[0m\u001b[0;34m=\u001b[0m\u001b[0mrequest\u001b[0m\u001b[0;34m.\u001b[0m\u001b[0mmethod\u001b[0m\u001b[0;34m,\u001b[0m\u001b[0;34m\u001b[0m\u001b[0;34m\u001b[0m\u001b[0m\n\u001b[1;32m    488\u001b[0m                 \u001b[0murl\u001b[0m\u001b[0;34m=\u001b[0m\u001b[0murl\u001b[0m\u001b[0;34m,\u001b[0m\u001b[0;34m\u001b[0m\u001b[0;34m\u001b[0m\u001b[0m\n",
            "\u001b[0;32m/usr/local/lib/python3.10/dist-packages/urllib3/connectionpool.py\u001b[0m in \u001b[0;36murlopen\u001b[0;34m(self, method, url, body, headers, retries, redirect, assert_same_host, timeout, pool_timeout, release_conn, chunked, body_pos, preload_content, decode_content, **response_kw)\u001b[0m\n\u001b[1;32m    788\u001b[0m \u001b[0;34m\u001b[0m\u001b[0m\n\u001b[1;32m    789\u001b[0m             \u001b[0;31m# Make the request on the HTTPConnection object\u001b[0m\u001b[0;34m\u001b[0m\u001b[0;34m\u001b[0m\u001b[0m\n\u001b[0;32m--> 790\u001b[0;31m             response = self._make_request(\n\u001b[0m\u001b[1;32m    791\u001b[0m                 \u001b[0mconn\u001b[0m\u001b[0;34m,\u001b[0m\u001b[0;34m\u001b[0m\u001b[0;34m\u001b[0m\u001b[0m\n\u001b[1;32m    792\u001b[0m                 \u001b[0mmethod\u001b[0m\u001b[0;34m,\u001b[0m\u001b[0;34m\u001b[0m\u001b[0;34m\u001b[0m\u001b[0m\n",
            "\u001b[0;32m/usr/local/lib/python3.10/dist-packages/urllib3/connectionpool.py\u001b[0m in \u001b[0;36m_make_request\u001b[0;34m(self, conn, method, url, body, headers, retries, timeout, chunked, response_conn, preload_content, decode_content, enforce_content_length)\u001b[0m\n\u001b[1;32m    534\u001b[0m         \u001b[0;31m# Receive the response from the server\u001b[0m\u001b[0;34m\u001b[0m\u001b[0;34m\u001b[0m\u001b[0m\n\u001b[1;32m    535\u001b[0m         \u001b[0;32mtry\u001b[0m\u001b[0;34m:\u001b[0m\u001b[0;34m\u001b[0m\u001b[0;34m\u001b[0m\u001b[0m\n\u001b[0;32m--> 536\u001b[0;31m             \u001b[0mresponse\u001b[0m \u001b[0;34m=\u001b[0m \u001b[0mconn\u001b[0m\u001b[0;34m.\u001b[0m\u001b[0mgetresponse\u001b[0m\u001b[0;34m(\u001b[0m\u001b[0;34m)\u001b[0m\u001b[0;34m\u001b[0m\u001b[0;34m\u001b[0m\u001b[0m\n\u001b[0m\u001b[1;32m    537\u001b[0m         \u001b[0;32mexcept\u001b[0m \u001b[0;34m(\u001b[0m\u001b[0mBaseSSLError\u001b[0m\u001b[0;34m,\u001b[0m \u001b[0mOSError\u001b[0m\u001b[0;34m)\u001b[0m \u001b[0;32mas\u001b[0m \u001b[0me\u001b[0m\u001b[0;34m:\u001b[0m\u001b[0;34m\u001b[0m\u001b[0;34m\u001b[0m\u001b[0m\n\u001b[1;32m    538\u001b[0m             \u001b[0mself\u001b[0m\u001b[0;34m.\u001b[0m\u001b[0m_raise_timeout\u001b[0m\u001b[0;34m(\u001b[0m\u001b[0merr\u001b[0m\u001b[0;34m=\u001b[0m\u001b[0me\u001b[0m\u001b[0;34m,\u001b[0m \u001b[0murl\u001b[0m\u001b[0;34m=\u001b[0m\u001b[0murl\u001b[0m\u001b[0;34m,\u001b[0m \u001b[0mtimeout_value\u001b[0m\u001b[0;34m=\u001b[0m\u001b[0mread_timeout\u001b[0m\u001b[0;34m)\u001b[0m\u001b[0;34m\u001b[0m\u001b[0;34m\u001b[0m\u001b[0m\n",
            "\u001b[0;32m/usr/local/lib/python3.10/dist-packages/urllib3/connection.py\u001b[0m in \u001b[0;36mgetresponse\u001b[0;34m(self)\u001b[0m\n\u001b[1;32m    459\u001b[0m \u001b[0;34m\u001b[0m\u001b[0m\n\u001b[1;32m    460\u001b[0m         \u001b[0;31m# Get the response from http.client.HTTPConnection\u001b[0m\u001b[0;34m\u001b[0m\u001b[0;34m\u001b[0m\u001b[0m\n\u001b[0;32m--> 461\u001b[0;31m         \u001b[0mhttplib_response\u001b[0m \u001b[0;34m=\u001b[0m \u001b[0msuper\u001b[0m\u001b[0;34m(\u001b[0m\u001b[0;34m)\u001b[0m\u001b[0;34m.\u001b[0m\u001b[0mgetresponse\u001b[0m\u001b[0;34m(\u001b[0m\u001b[0;34m)\u001b[0m\u001b[0;34m\u001b[0m\u001b[0;34m\u001b[0m\u001b[0m\n\u001b[0m\u001b[1;32m    462\u001b[0m \u001b[0;34m\u001b[0m\u001b[0m\n\u001b[1;32m    463\u001b[0m         \u001b[0;32mtry\u001b[0m\u001b[0;34m:\u001b[0m\u001b[0;34m\u001b[0m\u001b[0;34m\u001b[0m\u001b[0m\n",
            "\u001b[0;32m/usr/lib/python3.10/http/client.py\u001b[0m in \u001b[0;36mgetresponse\u001b[0;34m(self)\u001b[0m\n\u001b[1;32m   1373\u001b[0m         \u001b[0;32mtry\u001b[0m\u001b[0;34m:\u001b[0m\u001b[0;34m\u001b[0m\u001b[0;34m\u001b[0m\u001b[0m\n\u001b[1;32m   1374\u001b[0m             \u001b[0;32mtry\u001b[0m\u001b[0;34m:\u001b[0m\u001b[0;34m\u001b[0m\u001b[0;34m\u001b[0m\u001b[0m\n\u001b[0;32m-> 1375\u001b[0;31m                 \u001b[0mresponse\u001b[0m\u001b[0;34m.\u001b[0m\u001b[0mbegin\u001b[0m\u001b[0;34m(\u001b[0m\u001b[0;34m)\u001b[0m\u001b[0;34m\u001b[0m\u001b[0;34m\u001b[0m\u001b[0m\n\u001b[0m\u001b[1;32m   1376\u001b[0m             \u001b[0;32mexcept\u001b[0m \u001b[0mConnectionError\u001b[0m\u001b[0;34m:\u001b[0m\u001b[0;34m\u001b[0m\u001b[0;34m\u001b[0m\u001b[0m\n\u001b[1;32m   1377\u001b[0m                 \u001b[0mself\u001b[0m\u001b[0;34m.\u001b[0m\u001b[0mclose\u001b[0m\u001b[0;34m(\u001b[0m\u001b[0;34m)\u001b[0m\u001b[0;34m\u001b[0m\u001b[0;34m\u001b[0m\u001b[0m\n",
            "\u001b[0;32m/usr/lib/python3.10/http/client.py\u001b[0m in \u001b[0;36mbegin\u001b[0;34m(self)\u001b[0m\n\u001b[1;32m    316\u001b[0m         \u001b[0;31m# read until we get a non-100 response\u001b[0m\u001b[0;34m\u001b[0m\u001b[0;34m\u001b[0m\u001b[0m\n\u001b[1;32m    317\u001b[0m         \u001b[0;32mwhile\u001b[0m \u001b[0;32mTrue\u001b[0m\u001b[0;34m:\u001b[0m\u001b[0;34m\u001b[0m\u001b[0;34m\u001b[0m\u001b[0m\n\u001b[0;32m--> 318\u001b[0;31m             \u001b[0mversion\u001b[0m\u001b[0;34m,\u001b[0m \u001b[0mstatus\u001b[0m\u001b[0;34m,\u001b[0m \u001b[0mreason\u001b[0m \u001b[0;34m=\u001b[0m \u001b[0mself\u001b[0m\u001b[0;34m.\u001b[0m\u001b[0m_read_status\u001b[0m\u001b[0;34m(\u001b[0m\u001b[0;34m)\u001b[0m\u001b[0;34m\u001b[0m\u001b[0;34m\u001b[0m\u001b[0m\n\u001b[0m\u001b[1;32m    319\u001b[0m             \u001b[0;32mif\u001b[0m \u001b[0mstatus\u001b[0m \u001b[0;34m!=\u001b[0m \u001b[0mCONTINUE\u001b[0m\u001b[0;34m:\u001b[0m\u001b[0;34m\u001b[0m\u001b[0;34m\u001b[0m\u001b[0m\n\u001b[1;32m    320\u001b[0m                 \u001b[0;32mbreak\u001b[0m\u001b[0;34m\u001b[0m\u001b[0;34m\u001b[0m\u001b[0m\n",
            "\u001b[0;32m/usr/lib/python3.10/http/client.py\u001b[0m in \u001b[0;36m_read_status\u001b[0;34m(self)\u001b[0m\n\u001b[1;32m    277\u001b[0m \u001b[0;34m\u001b[0m\u001b[0m\n\u001b[1;32m    278\u001b[0m     \u001b[0;32mdef\u001b[0m \u001b[0m_read_status\u001b[0m\u001b[0;34m(\u001b[0m\u001b[0mself\u001b[0m\u001b[0;34m)\u001b[0m\u001b[0;34m:\u001b[0m\u001b[0;34m\u001b[0m\u001b[0;34m\u001b[0m\u001b[0m\n\u001b[0;32m--> 279\u001b[0;31m         \u001b[0mline\u001b[0m \u001b[0;34m=\u001b[0m \u001b[0mstr\u001b[0m\u001b[0;34m(\u001b[0m\u001b[0mself\u001b[0m\u001b[0;34m.\u001b[0m\u001b[0mfp\u001b[0m\u001b[0;34m.\u001b[0m\u001b[0mreadline\u001b[0m\u001b[0;34m(\u001b[0m\u001b[0m_MAXLINE\u001b[0m \u001b[0;34m+\u001b[0m \u001b[0;36m1\u001b[0m\u001b[0;34m)\u001b[0m\u001b[0;34m,\u001b[0m \u001b[0;34m\"iso-8859-1\"\u001b[0m\u001b[0;34m)\u001b[0m\u001b[0;34m\u001b[0m\u001b[0;34m\u001b[0m\u001b[0m\n\u001b[0m\u001b[1;32m    280\u001b[0m         \u001b[0;32mif\u001b[0m \u001b[0mlen\u001b[0m\u001b[0;34m(\u001b[0m\u001b[0mline\u001b[0m\u001b[0;34m)\u001b[0m \u001b[0;34m>\u001b[0m \u001b[0m_MAXLINE\u001b[0m\u001b[0;34m:\u001b[0m\u001b[0;34m\u001b[0m\u001b[0;34m\u001b[0m\u001b[0m\n\u001b[1;32m    281\u001b[0m             \u001b[0;32mraise\u001b[0m \u001b[0mLineTooLong\u001b[0m\u001b[0;34m(\u001b[0m\u001b[0;34m\"status line\"\u001b[0m\u001b[0;34m)\u001b[0m\u001b[0;34m\u001b[0m\u001b[0;34m\u001b[0m\u001b[0m\n",
            "\u001b[0;32m/usr/lib/python3.10/socket.py\u001b[0m in \u001b[0;36mreadinto\u001b[0;34m(self, b)\u001b[0m\n\u001b[1;32m    703\u001b[0m         \u001b[0;32mwhile\u001b[0m \u001b[0;32mTrue\u001b[0m\u001b[0;34m:\u001b[0m\u001b[0;34m\u001b[0m\u001b[0;34m\u001b[0m\u001b[0m\n\u001b[1;32m    704\u001b[0m             \u001b[0;32mtry\u001b[0m\u001b[0;34m:\u001b[0m\u001b[0;34m\u001b[0m\u001b[0;34m\u001b[0m\u001b[0m\n\u001b[0;32m--> 705\u001b[0;31m                 \u001b[0;32mreturn\u001b[0m \u001b[0mself\u001b[0m\u001b[0;34m.\u001b[0m\u001b[0m_sock\u001b[0m\u001b[0;34m.\u001b[0m\u001b[0mrecv_into\u001b[0m\u001b[0;34m(\u001b[0m\u001b[0mb\u001b[0m\u001b[0;34m)\u001b[0m\u001b[0;34m\u001b[0m\u001b[0;34m\u001b[0m\u001b[0m\n\u001b[0m\u001b[1;32m    706\u001b[0m             \u001b[0;32mexcept\u001b[0m \u001b[0mtimeout\u001b[0m\u001b[0;34m:\u001b[0m\u001b[0;34m\u001b[0m\u001b[0;34m\u001b[0m\u001b[0m\n\u001b[1;32m    707\u001b[0m                 \u001b[0mself\u001b[0m\u001b[0;34m.\u001b[0m\u001b[0m_timeout_occurred\u001b[0m \u001b[0;34m=\u001b[0m \u001b[0;32mTrue\u001b[0m\u001b[0;34m\u001b[0m\u001b[0;34m\u001b[0m\u001b[0m\n",
            "\u001b[0;32m/usr/lib/python3.10/ssl.py\u001b[0m in \u001b[0;36mrecv_into\u001b[0;34m(self, buffer, nbytes, flags)\u001b[0m\n\u001b[1;32m   1272\u001b[0m                   \u001b[0;34m\"non-zero flags not allowed in calls to recv_into() on %s\"\u001b[0m \u001b[0;34m%\u001b[0m\u001b[0;34m\u001b[0m\u001b[0;34m\u001b[0m\u001b[0m\n\u001b[1;32m   1273\u001b[0m                   self.__class__)\n\u001b[0;32m-> 1274\u001b[0;31m             \u001b[0;32mreturn\u001b[0m \u001b[0mself\u001b[0m\u001b[0;34m.\u001b[0m\u001b[0mread\u001b[0m\u001b[0;34m(\u001b[0m\u001b[0mnbytes\u001b[0m\u001b[0;34m,\u001b[0m \u001b[0mbuffer\u001b[0m\u001b[0;34m)\u001b[0m\u001b[0;34m\u001b[0m\u001b[0;34m\u001b[0m\u001b[0m\n\u001b[0m\u001b[1;32m   1275\u001b[0m         \u001b[0;32melse\u001b[0m\u001b[0;34m:\u001b[0m\u001b[0;34m\u001b[0m\u001b[0;34m\u001b[0m\u001b[0m\n\u001b[1;32m   1276\u001b[0m             \u001b[0;32mreturn\u001b[0m \u001b[0msuper\u001b[0m\u001b[0;34m(\u001b[0m\u001b[0;34m)\u001b[0m\u001b[0;34m.\u001b[0m\u001b[0mrecv_into\u001b[0m\u001b[0;34m(\u001b[0m\u001b[0mbuffer\u001b[0m\u001b[0;34m,\u001b[0m \u001b[0mnbytes\u001b[0m\u001b[0;34m,\u001b[0m \u001b[0mflags\u001b[0m\u001b[0;34m)\u001b[0m\u001b[0;34m\u001b[0m\u001b[0;34m\u001b[0m\u001b[0m\n",
            "\u001b[0;32m/usr/lib/python3.10/ssl.py\u001b[0m in \u001b[0;36mread\u001b[0;34m(self, len, buffer)\u001b[0m\n\u001b[1;32m   1128\u001b[0m         \u001b[0;32mtry\u001b[0m\u001b[0;34m:\u001b[0m\u001b[0;34m\u001b[0m\u001b[0;34m\u001b[0m\u001b[0m\n\u001b[1;32m   1129\u001b[0m             \u001b[0;32mif\u001b[0m \u001b[0mbuffer\u001b[0m \u001b[0;32mis\u001b[0m \u001b[0;32mnot\u001b[0m \u001b[0;32mNone\u001b[0m\u001b[0;34m:\u001b[0m\u001b[0;34m\u001b[0m\u001b[0;34m\u001b[0m\u001b[0m\n\u001b[0;32m-> 1130\u001b[0;31m                 \u001b[0;32mreturn\u001b[0m \u001b[0mself\u001b[0m\u001b[0;34m.\u001b[0m\u001b[0m_sslobj\u001b[0m\u001b[0;34m.\u001b[0m\u001b[0mread\u001b[0m\u001b[0;34m(\u001b[0m\u001b[0mlen\u001b[0m\u001b[0;34m,\u001b[0m \u001b[0mbuffer\u001b[0m\u001b[0;34m)\u001b[0m\u001b[0;34m\u001b[0m\u001b[0;34m\u001b[0m\u001b[0m\n\u001b[0m\u001b[1;32m   1131\u001b[0m             \u001b[0;32melse\u001b[0m\u001b[0;34m:\u001b[0m\u001b[0;34m\u001b[0m\u001b[0;34m\u001b[0m\u001b[0m\n\u001b[1;32m   1132\u001b[0m                 \u001b[0;32mreturn\u001b[0m \u001b[0mself\u001b[0m\u001b[0;34m.\u001b[0m\u001b[0m_sslobj\u001b[0m\u001b[0;34m.\u001b[0m\u001b[0mread\u001b[0m\u001b[0;34m(\u001b[0m\u001b[0mlen\u001b[0m\u001b[0;34m)\u001b[0m\u001b[0;34m\u001b[0m\u001b[0;34m\u001b[0m\u001b[0m\n",
            "\u001b[0;31mKeyboardInterrupt\u001b[0m: "
          ]
        }
      ]
    },
    {
      "cell_type": "code",
      "source": [
        "# Make number of products in each category same\n",
        "df1 = df\n",
        "\n",
        "min_category = df1['category'].value_counts().idxmin()\n",
        "\n",
        "\n",
        "category_counts = df1['category'].value_counts()\n",
        "\n",
        "print(min_category)\n",
        "print(min(category_counts))\n",
        "\n",
        "for category in category_counts.index:\n",
        "    if category != min_category:\n",
        "        sample_size = category_counts[min_category]\n",
        "        category_indices = df1[df1['category'] == category].index\n",
        "        selected_indices = pd.Series(category_indices).sample(n=sample_size, replace=True).tolist()\n",
        "        df1.loc[category_indices, :] = df1.loc[selected_indices, :]\n",
        "\n",
        "# Save the DataFrame to a CSV file\n",
        "df1.to_csv(\"product_data.csv\", index=False)\n",
        "print(\"Data saved to csv\")"
      ],
      "metadata": {
        "id": "veTHTzkS124M"
      },
      "execution_count": null,
      "outputs": []
    }
  ]
}